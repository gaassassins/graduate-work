{
 "cells": [
  {
   "cell_type": "code",
   "execution_count": null,
   "metadata": {
    "collapsed": true
   },
   "outputs": [],
   "source": [
    "import pickle\n",
    "import numpy as np\n",
    "from skimage import exposure\n",
    "from PIL import Image\n",
    "from itertools import product\n",
    "from sklearn.preprocessing import scale\n",
    "from scipy.ndimage import filters\n",
    "import matplotlib.pyplot as plt\n",
    "import glob\n",
    "%matplotlib inline"
   ]
  },
  {
   "cell_type": "markdown",
   "metadata": {},
   "source": [
    "# Feature extraction"
   ]
  },
  {
   "cell_type": "code",
   "execution_count": 1,
   "metadata": {
    "collapsed": true
   },
   "outputs": [],
   "source": [
    "def read(subdir='./', prefs=[]): \n",
    "    patterns = ['/'.join(['.', 'data', subdir, pref + '*.jpg']) for pref in prefs]\n",
    "    paths = [sorted(glob.glob(pattern)) for pattern in patterns]\n",
    "    return [[np.asarray(Image.open(file).convert('L')) / 255. \n",
    "             for file in files] \n",
    "            for files in paths]"
   ]
  },
  {
   "cell_type": "code",
   "execution_count": 2,
   "metadata": {
    "collapsed": true
   },
   "outputs": [],
   "source": [
    "def preprocessing(img):\n",
    "    img = exposure.equalize_adapthist(img)\n",
    "    img = img - filters.gaussian_filter(img, 120)\n",
    "    shape = img.shape\n",
    "    img = scale(img.reshape(-1)).reshape(shape[0], -1)\n",
    "    return img / (max(img.max(), abs(img.min())))"
   ]
  },
  {
   "cell_type": "code",
   "execution_count": null,
   "metadata": {
    "collapsed": true
   },
   "outputs": [],
   "source": []
  }
 ],
 "metadata": {
  "kernelspec": {
   "display_name": "Python 3",
   "language": "python",
   "name": "python3"
  },
  "language_info": {
   "codemirror_mode": {
    "name": "ipython",
    "version": 3
   },
   "file_extension": ".py",
   "mimetype": "text/x-python",
   "name": "python",
   "nbconvert_exporter": "python",
   "pygments_lexer": "ipython3",
   "version": "3.5.1"
  }
 },
 "nbformat": 4,
 "nbformat_minor": 2
}
